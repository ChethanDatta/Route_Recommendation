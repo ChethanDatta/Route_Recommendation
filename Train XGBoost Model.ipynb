{
 "cells": [
  {
   "cell_type": "code",
   "execution_count": 1,
   "metadata": {},
   "outputs": [],
   "source": [
    "import pandas as pd\n",
    "import numpy as np\n",
    "import xgboost as xgb\n",
    "\n",
    "import pickle\n",
    "from geopy.geocoders import Nominatim\n",
    "from sklearn.model_selection import train_test_split\n",
    "\n",
    "pd.set_option('display.max_columns', None)"
   ]
  },
  {
   "cell_type": "markdown",
   "metadata": {},
   "source": [
    "# Import data and take a look at it"
   ]
  },
  {
   "cell_type": "code",
   "execution_count": 2,
   "metadata": {},
   "outputs": [],
   "source": [
    "sample_df = pd.read_csv(\"train.csv\")"
   ]
  },
  {
   "cell_type": "code",
   "execution_count": 3,
   "metadata": {},
   "outputs": [
    {
     "data": {
      "text/plain": [
       "(1458644, 11)"
      ]
     },
     "execution_count": 3,
     "metadata": {},
     "output_type": "execute_result"
    }
   ],
   "source": [
    "sample_df.shape"
   ]
  },
  {
   "cell_type": "code",
   "execution_count": 4,
   "metadata": {},
   "outputs": [
    {
     "data": {
      "text/html": [
       "<div>\n",
       "<style scoped>\n",
       "    .dataframe tbody tr th:only-of-type {\n",
       "        vertical-align: middle;\n",
       "    }\n",
       "\n",
       "    .dataframe tbody tr th {\n",
       "        vertical-align: top;\n",
       "    }\n",
       "\n",
       "    .dataframe thead th {\n",
       "        text-align: right;\n",
       "    }\n",
       "</style>\n",
       "<table border=\"1\" class=\"dataframe\">\n",
       "  <thead>\n",
       "    <tr style=\"text-align: right;\">\n",
       "      <th></th>\n",
       "      <th>id</th>\n",
       "      <th>vendor_id</th>\n",
       "      <th>pickup_datetime</th>\n",
       "      <th>dropoff_datetime</th>\n",
       "      <th>passenger_count</th>\n",
       "      <th>pickup_longitude</th>\n",
       "      <th>pickup_latitude</th>\n",
       "      <th>dropoff_longitude</th>\n",
       "      <th>dropoff_latitude</th>\n",
       "      <th>store_and_fwd_flag</th>\n",
       "      <th>trip_duration</th>\n",
       "    </tr>\n",
       "  </thead>\n",
       "  <tbody>\n",
       "    <tr>\n",
       "      <th>0</th>\n",
       "      <td>id2875421</td>\n",
       "      <td>2</td>\n",
       "      <td>2016-03-14 17:24:55</td>\n",
       "      <td>2016-03-14 17:32:30</td>\n",
       "      <td>1</td>\n",
       "      <td>-73.982155</td>\n",
       "      <td>40.767937</td>\n",
       "      <td>-73.964630</td>\n",
       "      <td>40.765602</td>\n",
       "      <td>N</td>\n",
       "      <td>455</td>\n",
       "    </tr>\n",
       "    <tr>\n",
       "      <th>1</th>\n",
       "      <td>id2377394</td>\n",
       "      <td>1</td>\n",
       "      <td>2016-06-12 00:43:35</td>\n",
       "      <td>2016-06-12 00:54:38</td>\n",
       "      <td>1</td>\n",
       "      <td>-73.980415</td>\n",
       "      <td>40.738564</td>\n",
       "      <td>-73.999481</td>\n",
       "      <td>40.731152</td>\n",
       "      <td>N</td>\n",
       "      <td>663</td>\n",
       "    </tr>\n",
       "    <tr>\n",
       "      <th>2</th>\n",
       "      <td>id3858529</td>\n",
       "      <td>2</td>\n",
       "      <td>2016-01-19 11:35:24</td>\n",
       "      <td>2016-01-19 12:10:48</td>\n",
       "      <td>1</td>\n",
       "      <td>-73.979027</td>\n",
       "      <td>40.763939</td>\n",
       "      <td>-74.005333</td>\n",
       "      <td>40.710087</td>\n",
       "      <td>N</td>\n",
       "      <td>2124</td>\n",
       "    </tr>\n",
       "    <tr>\n",
       "      <th>3</th>\n",
       "      <td>id3504673</td>\n",
       "      <td>2</td>\n",
       "      <td>2016-04-06 19:32:31</td>\n",
       "      <td>2016-04-06 19:39:40</td>\n",
       "      <td>1</td>\n",
       "      <td>-74.010040</td>\n",
       "      <td>40.719971</td>\n",
       "      <td>-74.012268</td>\n",
       "      <td>40.706718</td>\n",
       "      <td>N</td>\n",
       "      <td>429</td>\n",
       "    </tr>\n",
       "    <tr>\n",
       "      <th>4</th>\n",
       "      <td>id2181028</td>\n",
       "      <td>2</td>\n",
       "      <td>2016-03-26 13:30:55</td>\n",
       "      <td>2016-03-26 13:38:10</td>\n",
       "      <td>1</td>\n",
       "      <td>-73.973053</td>\n",
       "      <td>40.793209</td>\n",
       "      <td>-73.972923</td>\n",
       "      <td>40.782520</td>\n",
       "      <td>N</td>\n",
       "      <td>435</td>\n",
       "    </tr>\n",
       "  </tbody>\n",
       "</table>\n",
       "</div>"
      ],
      "text/plain": [
       "          id  vendor_id      pickup_datetime     dropoff_datetime  \\\n",
       "0  id2875421          2  2016-03-14 17:24:55  2016-03-14 17:32:30   \n",
       "1  id2377394          1  2016-06-12 00:43:35  2016-06-12 00:54:38   \n",
       "2  id3858529          2  2016-01-19 11:35:24  2016-01-19 12:10:48   \n",
       "3  id3504673          2  2016-04-06 19:32:31  2016-04-06 19:39:40   \n",
       "4  id2181028          2  2016-03-26 13:30:55  2016-03-26 13:38:10   \n",
       "\n",
       "   passenger_count  pickup_longitude  pickup_latitude  dropoff_longitude  \\\n",
       "0                1        -73.982155        40.767937         -73.964630   \n",
       "1                1        -73.980415        40.738564         -73.999481   \n",
       "2                1        -73.979027        40.763939         -74.005333   \n",
       "3                1        -74.010040        40.719971         -74.012268   \n",
       "4                1        -73.973053        40.793209         -73.972923   \n",
       "\n",
       "   dropoff_latitude store_and_fwd_flag  trip_duration  \n",
       "0         40.765602                  N            455  \n",
       "1         40.731152                  N            663  \n",
       "2         40.710087                  N           2124  \n",
       "3         40.706718                  N            429  \n",
       "4         40.782520                  N            435  "
      ]
     },
     "execution_count": 4,
     "metadata": {},
     "output_type": "execute_result"
    }
   ],
   "source": [
    "sample_df.head()"
   ]
  },
  {
   "cell_type": "markdown",
   "metadata": {},
   "source": [
    "# Data Preprocessing"
   ]
  },
  {
   "cell_type": "code",
   "execution_count": 5,
   "metadata": {},
   "outputs": [
    {
     "data": {
      "text/plain": [
       "N    1450599\n",
       "Y       8045\n",
       "Name: store_and_fwd_flag, dtype: int64"
      ]
     },
     "execution_count": 5,
     "metadata": {},
     "output_type": "execute_result"
    }
   ],
   "source": [
    "sample_df[\"store_and_fwd_flag\"].value_counts()"
   ]
  },
  {
   "cell_type": "code",
   "execution_count": 6,
   "metadata": {},
   "outputs": [],
   "source": [
    "#Convert character variables to numeric \n",
    "f = lambda x: 0 if x == 'N' else 1\n",
    "\n",
    "sample_df[\"store_and_fwd_flag\"] = sample_df[\"store_and_fwd_flag\"].apply(lambda x: f(x))            "
   ]
  },
  {
   "cell_type": "code",
   "execution_count": 7,
   "metadata": {},
   "outputs": [
    {
     "data": {
      "text/plain": [
       "0    1450599\n",
       "1       8045\n",
       "Name: store_and_fwd_flag, dtype: int64"
      ]
     },
     "execution_count": 7,
     "metadata": {},
     "output_type": "execute_result"
    }
   ],
   "source": [
    "#Check result\n",
    "sample_df[\"store_and_fwd_flag\"].value_counts()"
   ]
  },
  {
   "cell_type": "markdown",
   "metadata": {},
   "source": [
    "## Engineer features"
   ]
  },
  {
   "cell_type": "code",
   "execution_count": 8,
   "metadata": {},
   "outputs": [],
   "source": [
    "#First, convert datetime strings into datetime\n",
    "sample_df[\"dropoff_datetime\"] = pd.to_datetime(sample_df[\"dropoff_datetime\"], format='%Y-%m-%d %H:%M:%S')\n",
    "sample_df[\"pickup_datetime\"] = pd.to_datetime(sample_df[\"pickup_datetime\"], format='%Y-%m-%d %H:%M:%S')"
   ]
  },
  {
   "cell_type": "code",
   "execution_count": 9,
   "metadata": {},
   "outputs": [],
   "source": [
    "#Now construct other variables, like month, date, etc.\n",
    "sample_df[\"pickup_month\"] = sample_df[\"pickup_datetime\"].dt.month\n",
    "sample_df[\"pickup_day\"] = sample_df[\"pickup_datetime\"].dt.day\n",
    "sample_df[\"pickup_weekday\"] = sample_df[\"pickup_datetime\"].dt.weekday #sample_df[\"pickup_weekday\"] = sample_df[\"pickup_datetime\"].dt.weekday_name\n",
    "sample_df[\"pickup_hour\"] = sample_df[\"pickup_datetime\"].dt.hour\n",
    "sample_df[\"pickup_minute\"] = sample_df[\"pickup_datetime\"].dt.minute"
   ]
  },
  {
   "cell_type": "code",
   "execution_count": 10,
   "metadata": {},
   "outputs": [],
   "source": [
    "#Get latitude and longitude differences \n",
    "sample_df[\"latitude_difference\"] = sample_df[\"dropoff_latitude\"] - sample_df[\"pickup_latitude\"]\n",
    "sample_df[\"longitude_difference\"] = sample_df[\"dropoff_longitude\"] - sample_df[\"pickup_longitude\"]"
   ]
  },
  {
   "cell_type": "code",
   "execution_count": 11,
   "metadata": {},
   "outputs": [],
   "source": [
    "#Convert duration to minutes for easier interpretation\n",
    "sample_df[\"trip_duration\"] = sample_df[\"trip_duration\"].apply(lambda x: round(x/60))   "
   ]
  },
  {
   "cell_type": "code",
   "execution_count": 12,
   "metadata": {},
   "outputs": [],
   "source": [
    "#Convert trip distance from longitude and latitude differences to Manhattan distance.\n",
    "sample_df[\"trip_distance\"] = 0.621371 * 6371 * (abs(2 * np.arctan2(np.sqrt(np.square(np.sin((abs(sample_df[\"latitude_difference\"]) * np.pi / 180) / 2))), \n",
    "                                  np.sqrt(1-(np.square(np.sin((abs(sample_df[\"latitude_difference\"]) * np.pi / 180) / 2)))))) + \\\n",
    "                                     abs(2 * np.arctan2(np.sqrt(np.square(np.sin((abs(sample_df[\"longitude_difference\"]) * np.pi / 180) / 2))), \n",
    "                                  np.sqrt(1-(np.square(np.sin((abs(sample_df[\"longitude_difference\"]) * np.pi / 180) / 2)))))))"
   ]
  },
  {
   "cell_type": "code",
   "execution_count": 13,
   "metadata": {},
   "outputs": [
    {
     "data": {
      "text/html": [
       "<div>\n",
       "<style scoped>\n",
       "    .dataframe tbody tr th:only-of-type {\n",
       "        vertical-align: middle;\n",
       "    }\n",
       "\n",
       "    .dataframe tbody tr th {\n",
       "        vertical-align: top;\n",
       "    }\n",
       "\n",
       "    .dataframe thead th {\n",
       "        text-align: right;\n",
       "    }\n",
       "</style>\n",
       "<table border=\"1\" class=\"dataframe\">\n",
       "  <thead>\n",
       "    <tr style=\"text-align: right;\">\n",
       "      <th></th>\n",
       "      <th>id</th>\n",
       "      <th>vendor_id</th>\n",
       "      <th>pickup_datetime</th>\n",
       "      <th>dropoff_datetime</th>\n",
       "      <th>passenger_count</th>\n",
       "      <th>pickup_longitude</th>\n",
       "      <th>pickup_latitude</th>\n",
       "      <th>dropoff_longitude</th>\n",
       "      <th>dropoff_latitude</th>\n",
       "      <th>store_and_fwd_flag</th>\n",
       "      <th>trip_duration</th>\n",
       "      <th>pickup_month</th>\n",
       "      <th>pickup_day</th>\n",
       "      <th>pickup_weekday</th>\n",
       "      <th>pickup_hour</th>\n",
       "      <th>pickup_minute</th>\n",
       "      <th>latitude_difference</th>\n",
       "      <th>longitude_difference</th>\n",
       "      <th>trip_distance</th>\n",
       "    </tr>\n",
       "  </thead>\n",
       "  <tbody>\n",
       "    <tr>\n",
       "      <th>0</th>\n",
       "      <td>id2875421</td>\n",
       "      <td>2</td>\n",
       "      <td>2016-03-14 17:24:55</td>\n",
       "      <td>2016-03-14 17:32:30</td>\n",
       "      <td>1</td>\n",
       "      <td>-73.982155</td>\n",
       "      <td>40.767937</td>\n",
       "      <td>-73.964630</td>\n",
       "      <td>40.765602</td>\n",
       "      <td>0</td>\n",
       "      <td>8</td>\n",
       "      <td>3</td>\n",
       "      <td>14</td>\n",
       "      <td>0</td>\n",
       "      <td>17</td>\n",
       "      <td>24</td>\n",
       "      <td>-0.002335</td>\n",
       "      <td>0.017525</td>\n",
       "      <td>1.372146</td>\n",
       "    </tr>\n",
       "    <tr>\n",
       "      <th>1</th>\n",
       "      <td>id2377394</td>\n",
       "      <td>1</td>\n",
       "      <td>2016-06-12 00:43:35</td>\n",
       "      <td>2016-06-12 00:54:38</td>\n",
       "      <td>1</td>\n",
       "      <td>-73.980415</td>\n",
       "      <td>40.738564</td>\n",
       "      <td>-73.999481</td>\n",
       "      <td>40.731152</td>\n",
       "      <td>0</td>\n",
       "      <td>11</td>\n",
       "      <td>6</td>\n",
       "      <td>12</td>\n",
       "      <td>6</td>\n",
       "      <td>0</td>\n",
       "      <td>43</td>\n",
       "      <td>-0.007412</td>\n",
       "      <td>-0.019066</td>\n",
       "      <td>1.829440</td>\n",
       "    </tr>\n",
       "    <tr>\n",
       "      <th>2</th>\n",
       "      <td>id3858529</td>\n",
       "      <td>2</td>\n",
       "      <td>2016-01-19 11:35:24</td>\n",
       "      <td>2016-01-19 12:10:48</td>\n",
       "      <td>1</td>\n",
       "      <td>-73.979027</td>\n",
       "      <td>40.763939</td>\n",
       "      <td>-74.005333</td>\n",
       "      <td>40.710087</td>\n",
       "      <td>0</td>\n",
       "      <td>35</td>\n",
       "      <td>1</td>\n",
       "      <td>19</td>\n",
       "      <td>1</td>\n",
       "      <td>11</td>\n",
       "      <td>35</td>\n",
       "      <td>-0.053852</td>\n",
       "      <td>-0.026306</td>\n",
       "      <td>5.538397</td>\n",
       "    </tr>\n",
       "    <tr>\n",
       "      <th>3</th>\n",
       "      <td>id3504673</td>\n",
       "      <td>2</td>\n",
       "      <td>2016-04-06 19:32:31</td>\n",
       "      <td>2016-04-06 19:39:40</td>\n",
       "      <td>1</td>\n",
       "      <td>-74.010040</td>\n",
       "      <td>40.719971</td>\n",
       "      <td>-74.012268</td>\n",
       "      <td>40.706718</td>\n",
       "      <td>0</td>\n",
       "      <td>7</td>\n",
       "      <td>4</td>\n",
       "      <td>6</td>\n",
       "      <td>2</td>\n",
       "      <td>19</td>\n",
       "      <td>32</td>\n",
       "      <td>-0.013252</td>\n",
       "      <td>-0.002228</td>\n",
       "      <td>1.069567</td>\n",
       "    </tr>\n",
       "    <tr>\n",
       "      <th>4</th>\n",
       "      <td>id2181028</td>\n",
       "      <td>2</td>\n",
       "      <td>2016-03-26 13:30:55</td>\n",
       "      <td>2016-03-26 13:38:10</td>\n",
       "      <td>1</td>\n",
       "      <td>-73.973053</td>\n",
       "      <td>40.793209</td>\n",
       "      <td>-73.972923</td>\n",
       "      <td>40.782520</td>\n",
       "      <td>0</td>\n",
       "      <td>7</td>\n",
       "      <td>3</td>\n",
       "      <td>26</td>\n",
       "      <td>5</td>\n",
       "      <td>13</td>\n",
       "      <td>30</td>\n",
       "      <td>-0.010689</td>\n",
       "      <td>0.000130</td>\n",
       "      <td>0.747485</td>\n",
       "    </tr>\n",
       "  </tbody>\n",
       "</table>\n",
       "</div>"
      ],
      "text/plain": [
       "          id  vendor_id     pickup_datetime    dropoff_datetime  \\\n",
       "0  id2875421          2 2016-03-14 17:24:55 2016-03-14 17:32:30   \n",
       "1  id2377394          1 2016-06-12 00:43:35 2016-06-12 00:54:38   \n",
       "2  id3858529          2 2016-01-19 11:35:24 2016-01-19 12:10:48   \n",
       "3  id3504673          2 2016-04-06 19:32:31 2016-04-06 19:39:40   \n",
       "4  id2181028          2 2016-03-26 13:30:55 2016-03-26 13:38:10   \n",
       "\n",
       "   passenger_count  pickup_longitude  pickup_latitude  dropoff_longitude  \\\n",
       "0                1        -73.982155        40.767937         -73.964630   \n",
       "1                1        -73.980415        40.738564         -73.999481   \n",
       "2                1        -73.979027        40.763939         -74.005333   \n",
       "3                1        -74.010040        40.719971         -74.012268   \n",
       "4                1        -73.973053        40.793209         -73.972923   \n",
       "\n",
       "   dropoff_latitude  store_and_fwd_flag  trip_duration  pickup_month  \\\n",
       "0         40.765602                   0              8             3   \n",
       "1         40.731152                   0             11             6   \n",
       "2         40.710087                   0             35             1   \n",
       "3         40.706718                   0              7             4   \n",
       "4         40.782520                   0              7             3   \n",
       "\n",
       "   pickup_day  pickup_weekday  pickup_hour  pickup_minute  \\\n",
       "0          14               0           17             24   \n",
       "1          12               6            0             43   \n",
       "2          19               1           11             35   \n",
       "3           6               2           19             32   \n",
       "4          26               5           13             30   \n",
       "\n",
       "   latitude_difference  longitude_difference  trip_distance  \n",
       "0            -0.002335              0.017525       1.372146  \n",
       "1            -0.007412             -0.019066       1.829440  \n",
       "2            -0.053852             -0.026306       5.538397  \n",
       "3            -0.013252             -0.002228       1.069567  \n",
       "4            -0.010689              0.000130       0.747485  "
      ]
     },
     "execution_count": 13,
     "metadata": {},
     "output_type": "execute_result"
    }
   ],
   "source": [
    "sample_df.head(5)"
   ]
  },
  {
   "cell_type": "markdown",
   "metadata": {},
   "source": [
    "# Modeling"
   ]
  },
  {
   "cell_type": "code",
   "execution_count": 14,
   "metadata": {},
   "outputs": [],
   "source": [
    "X = sample_df.drop([\"trip_duration\", \"id\", \"vendor_id\", \"pickup_datetime\", \"dropoff_datetime\"], axis=1)\n",
    "y = sample_df[\"trip_duration\"]"
   ]
  },
  {
   "cell_type": "code",
   "execution_count": 15,
   "metadata": {},
   "outputs": [],
   "source": [
    "#Split the data into training, test, and valdiation sets\n",
    "X_train, X_test, y_train, y_test = train_test_split(X, y, test_size=0.3, random_state=2018)\n",
    "X_train, X_val, y_train, y_val = train_test_split(X_train, y_train, test_size=0.25, random_state=2019)"
   ]
  },
  {
   "cell_type": "code",
   "execution_count": 16,
   "metadata": {},
   "outputs": [],
   "source": [
    "#Define evaluation metric\n",
    "def rmsle(y_true, y_pred):\n",
    "    assert len(y_true) == len(y_pred)\n",
    "    return np.square(np.log(y_pred + 1) - np.log(y_true + 1)).mean() ** 0.5"
   ]
  },
  {
   "cell_type": "code",
   "execution_count": 17,
   "metadata": {},
   "outputs": [],
   "source": [
    "#XGBoost parameters \n",
    "params = {\n",
    "    'booster':            'gbtree',\n",
    "    'objective':          'reg:linear',\n",
    "    'learning_rate':      0.05,\n",
    "    'max_depth':          14,\n",
    "    'subsample':          0.9,\n",
    "    'colsample_bytree':   0.7,\n",
    "    'colsample_bylevel':  0.7,\n",
    "    'silent':             1,\n",
    "    'feval':              'rmsle'\n",
    "}"
   ]
  },
  {
   "cell_type": "code",
   "execution_count": 18,
   "metadata": {},
   "outputs": [],
   "source": [
    "nrounds = 200"
   ]
  },
  {
   "cell_type": "code",
   "execution_count": 19,
   "metadata": {},
   "outputs": [],
   "source": [
    "#Define train and validation sets\n",
    "dtrain = xgb.DMatrix(X_train, np.log(y_train+1))\n",
    "dval = xgb.DMatrix(X_val, np.log(y_val+1))\n",
    "\n",
    "#this is for tracking the error\n",
    "watchlist = [(dval, 'eval'), (dtrain, 'train')]"
   ]
  },
  {
   "cell_type": "code",
   "execution_count": 20,
   "metadata": {},
   "outputs": [
    {
     "name": "stdout",
     "output_type": "stream",
     "text": [
      "[11:02:25] WARNING: C:/buildkite-agent/builds/buildkite-windows-cpu-autoscaling-group-i-03de431ba26204c4d-1/xgboost/xgboost-ci-windows/src/objective/regression_obj.cu:213: reg:linear is now deprecated in favor of reg:squarederror.\n",
      "[11:02:25] WARNING: C:/buildkite-agent/builds/buildkite-windows-cpu-autoscaling-group-i-03de431ba26204c4d-1/xgboost/xgboost-ci-windows/src/learner.cc:767: \n",
      "Parameters: { \"feval\", \"silent\" } are not used.\n",
      "\n",
      "[0]\teval-rmse:2.00600\ttrain-rmse:2.00534\n",
      "[1]\teval-rmse:1.90977\ttrain-rmse:1.90919\n",
      "[2]\teval-rmse:1.81870\ttrain-rmse:1.81810\n",
      "[3]\teval-rmse:1.73243\ttrain-rmse:1.73183\n",
      "[4]\teval-rmse:1.65036\ttrain-rmse:1.64983\n",
      "[5]\teval-rmse:1.57251\ttrain-rmse:1.57196\n",
      "[6]\teval-rmse:1.49886\ttrain-rmse:1.49826\n",
      "[7]\teval-rmse:1.42934\ttrain-rmse:1.42876\n",
      "[8]\teval-rmse:1.36317\ttrain-rmse:1.36247\n",
      "[9]\teval-rmse:1.30042\ttrain-rmse:1.29948\n",
      "[10]\teval-rmse:1.24151\ttrain-rmse:1.24040\n",
      "[11]\teval-rmse:1.18619\ttrain-rmse:1.18497\n",
      "[12]\teval-rmse:1.13395\ttrain-rmse:1.13261\n",
      "[13]\teval-rmse:1.08365\ttrain-rmse:1.08199\n",
      "[14]\teval-rmse:1.03615\ttrain-rmse:1.03430\n",
      "[15]\teval-rmse:0.99152\ttrain-rmse:0.98947\n",
      "[16]\teval-rmse:0.94900\ttrain-rmse:0.94676\n",
      "[17]\teval-rmse:0.90896\ttrain-rmse:0.90627\n",
      "[18]\teval-rmse:0.87147\ttrain-rmse:0.86853\n",
      "[19]\teval-rmse:0.83576\ttrain-rmse:0.83231\n",
      "[20]\teval-rmse:0.80234\ttrain-rmse:0.79844\n",
      "[21]\teval-rmse:0.77079\ttrain-rmse:0.76654\n",
      "[22]\teval-rmse:0.74102\ttrain-rmse:0.73633\n",
      "[23]\teval-rmse:0.71320\ttrain-rmse:0.70784\n",
      "[24]\teval-rmse:0.68701\ttrain-rmse:0.68092\n",
      "[25]\teval-rmse:0.66256\ttrain-rmse:0.65585\n",
      "[26]\teval-rmse:0.63972\ttrain-rmse:0.63228\n",
      "[27]\teval-rmse:0.61842\ttrain-rmse:0.61024\n",
      "[28]\teval-rmse:0.59844\ttrain-rmse:0.58944\n",
      "[29]\teval-rmse:0.57940\ttrain-rmse:0.56962\n",
      "[30]\teval-rmse:0.56179\ttrain-rmse:0.55101\n",
      "[31]\teval-rmse:0.54581\ttrain-rmse:0.53435\n",
      "[32]\teval-rmse:0.53132\ttrain-rmse:0.51910\n",
      "[33]\teval-rmse:0.51680\ttrain-rmse:0.50357\n",
      "[34]\teval-rmse:0.50374\ttrain-rmse:0.48942\n",
      "[35]\teval-rmse:0.49155\ttrain-rmse:0.47618\n",
      "[36]\teval-rmse:0.48029\ttrain-rmse:0.46416\n",
      "[37]\teval-rmse:0.46971\ttrain-rmse:0.45247\n",
      "[38]\teval-rmse:0.46006\ttrain-rmse:0.44190\n",
      "[39]\teval-rmse:0.45105\ttrain-rmse:0.43183\n",
      "[40]\teval-rmse:0.44273\ttrain-rmse:0.42259\n",
      "[41]\teval-rmse:0.43466\ttrain-rmse:0.41337\n",
      "[42]\teval-rmse:0.42734\ttrain-rmse:0.40492\n",
      "[43]\teval-rmse:0.42112\ttrain-rmse:0.39778\n",
      "[44]\teval-rmse:0.41475\ttrain-rmse:0.39029\n",
      "[45]\teval-rmse:0.40887\ttrain-rmse:0.38356\n",
      "[46]\teval-rmse:0.40372\ttrain-rmse:0.37755\n",
      "[47]\teval-rmse:0.39877\ttrain-rmse:0.37129\n",
      "[48]\teval-rmse:0.39439\ttrain-rmse:0.36590\n",
      "[49]\teval-rmse:0.39049\ttrain-rmse:0.36101\n",
      "[50]\teval-rmse:0.38654\ttrain-rmse:0.35623\n",
      "[51]\teval-rmse:0.38285\ttrain-rmse:0.35141\n",
      "[52]\teval-rmse:0.37950\ttrain-rmse:0.34689\n",
      "[53]\teval-rmse:0.37658\ttrain-rmse:0.34313\n",
      "[54]\teval-rmse:0.37395\ttrain-rmse:0.33969\n",
      "[55]\teval-rmse:0.37149\ttrain-rmse:0.33621\n",
      "[56]\teval-rmse:0.36901\ttrain-rmse:0.33270\n",
      "[57]\teval-rmse:0.36682\ttrain-rmse:0.32964\n",
      "[58]\teval-rmse:0.36478\ttrain-rmse:0.32675\n",
      "[59]\teval-rmse:0.36290\ttrain-rmse:0.32400\n",
      "[60]\teval-rmse:0.36119\ttrain-rmse:0.32135\n",
      "[61]\teval-rmse:0.35961\ttrain-rmse:0.31900\n",
      "[62]\teval-rmse:0.35825\ttrain-rmse:0.31684\n",
      "[63]\teval-rmse:0.35692\ttrain-rmse:0.31475\n",
      "[64]\teval-rmse:0.35574\ttrain-rmse:0.31274\n",
      "[65]\teval-rmse:0.35447\ttrain-rmse:0.31026\n",
      "[66]\teval-rmse:0.35343\ttrain-rmse:0.30816\n",
      "[67]\teval-rmse:0.35239\ttrain-rmse:0.30613\n",
      "[68]\teval-rmse:0.35137\ttrain-rmse:0.30443\n",
      "[69]\teval-rmse:0.35049\ttrain-rmse:0.30266\n",
      "[70]\teval-rmse:0.34975\ttrain-rmse:0.30134\n",
      "[71]\teval-rmse:0.34897\ttrain-rmse:0.29998\n",
      "[72]\teval-rmse:0.34823\ttrain-rmse:0.29839\n",
      "[73]\teval-rmse:0.34768\ttrain-rmse:0.29723\n",
      "[74]\teval-rmse:0.34714\ttrain-rmse:0.29607\n",
      "[75]\teval-rmse:0.34668\ttrain-rmse:0.29506\n",
      "[76]\teval-rmse:0.34610\ttrain-rmse:0.29354\n",
      "[77]\teval-rmse:0.34557\ttrain-rmse:0.29242\n",
      "[78]\teval-rmse:0.34510\ttrain-rmse:0.29101\n",
      "[79]\teval-rmse:0.34460\ttrain-rmse:0.28983\n",
      "[80]\teval-rmse:0.34421\ttrain-rmse:0.28886\n",
      "[81]\teval-rmse:0.34380\ttrain-rmse:0.28768\n",
      "[82]\teval-rmse:0.34343\ttrain-rmse:0.28662\n",
      "[83]\teval-rmse:0.34308\ttrain-rmse:0.28572\n",
      "[84]\teval-rmse:0.34278\ttrain-rmse:0.28496\n",
      "[85]\teval-rmse:0.34248\ttrain-rmse:0.28392\n",
      "[86]\teval-rmse:0.34214\ttrain-rmse:0.28279\n",
      "[87]\teval-rmse:0.34182\ttrain-rmse:0.28155\n",
      "[88]\teval-rmse:0.34152\ttrain-rmse:0.28042\n",
      "[89]\teval-rmse:0.34128\ttrain-rmse:0.27968\n",
      "[90]\teval-rmse:0.34098\ttrain-rmse:0.27864\n",
      "[91]\teval-rmse:0.34074\ttrain-rmse:0.27769\n",
      "[92]\teval-rmse:0.34047\ttrain-rmse:0.27678\n",
      "[93]\teval-rmse:0.34030\ttrain-rmse:0.27588\n",
      "[94]\teval-rmse:0.33997\ttrain-rmse:0.27497\n",
      "[95]\teval-rmse:0.33971\ttrain-rmse:0.27385\n",
      "[96]\teval-rmse:0.33958\ttrain-rmse:0.27301\n",
      "[97]\teval-rmse:0.33934\ttrain-rmse:0.27202\n",
      "[98]\teval-rmse:0.33918\ttrain-rmse:0.27131\n",
      "[99]\teval-rmse:0.33909\ttrain-rmse:0.27060\n",
      "[100]\teval-rmse:0.33896\ttrain-rmse:0.26994\n",
      "[101]\teval-rmse:0.33870\ttrain-rmse:0.26890\n",
      "[102]\teval-rmse:0.33860\ttrain-rmse:0.26825\n",
      "[103]\teval-rmse:0.33843\ttrain-rmse:0.26744\n",
      "[104]\teval-rmse:0.33838\ttrain-rmse:0.26678\n",
      "[105]\teval-rmse:0.33815\ttrain-rmse:0.26599\n",
      "[106]\teval-rmse:0.33798\ttrain-rmse:0.26505\n",
      "[107]\teval-rmse:0.33773\ttrain-rmse:0.26429\n",
      "[108]\teval-rmse:0.33762\ttrain-rmse:0.26356\n",
      "[109]\teval-rmse:0.33753\ttrain-rmse:0.26290\n",
      "[110]\teval-rmse:0.33735\ttrain-rmse:0.26195\n",
      "[111]\teval-rmse:0.33723\ttrain-rmse:0.26130\n",
      "[112]\teval-rmse:0.33715\ttrain-rmse:0.26085\n",
      "[113]\teval-rmse:0.33701\ttrain-rmse:0.26029\n",
      "[114]\teval-rmse:0.33689\ttrain-rmse:0.25942\n",
      "[115]\teval-rmse:0.33673\ttrain-rmse:0.25852\n",
      "[116]\teval-rmse:0.33664\ttrain-rmse:0.25798\n",
      "[117]\teval-rmse:0.33653\ttrain-rmse:0.25730\n",
      "[118]\teval-rmse:0.33639\ttrain-rmse:0.25658\n",
      "[119]\teval-rmse:0.33633\ttrain-rmse:0.25594\n",
      "[120]\teval-rmse:0.33629\ttrain-rmse:0.25539\n",
      "[121]\teval-rmse:0.33615\ttrain-rmse:0.25462\n",
      "[122]\teval-rmse:0.33607\ttrain-rmse:0.25423\n",
      "[123]\teval-rmse:0.33596\ttrain-rmse:0.25348\n",
      "[124]\teval-rmse:0.33591\ttrain-rmse:0.25300\n",
      "[125]\teval-rmse:0.33585\ttrain-rmse:0.25243\n",
      "[126]\teval-rmse:0.33574\ttrain-rmse:0.25184\n",
      "[127]\teval-rmse:0.33567\ttrain-rmse:0.25129\n",
      "[128]\teval-rmse:0.33554\ttrain-rmse:0.25066\n",
      "[129]\teval-rmse:0.33539\ttrain-rmse:0.25007\n",
      "[130]\teval-rmse:0.33524\ttrain-rmse:0.24930\n",
      "[131]\teval-rmse:0.33513\ttrain-rmse:0.24871\n",
      "[132]\teval-rmse:0.33510\ttrain-rmse:0.24846\n",
      "[133]\teval-rmse:0.33508\ttrain-rmse:0.24818\n",
      "[134]\teval-rmse:0.33497\ttrain-rmse:0.24759\n",
      "[135]\teval-rmse:0.33494\ttrain-rmse:0.24730\n",
      "[136]\teval-rmse:0.33486\ttrain-rmse:0.24692\n",
      "[137]\teval-rmse:0.33482\ttrain-rmse:0.24661\n",
      "[138]\teval-rmse:0.33481\ttrain-rmse:0.24625\n",
      "[139]\teval-rmse:0.33462\ttrain-rmse:0.24541\n",
      "[140]\teval-rmse:0.33455\ttrain-rmse:0.24487\n",
      "[141]\teval-rmse:0.33446\ttrain-rmse:0.24442\n",
      "[142]\teval-rmse:0.33444\ttrain-rmse:0.24390\n",
      "[143]\teval-rmse:0.33443\ttrain-rmse:0.24353\n",
      "[144]\teval-rmse:0.33435\ttrain-rmse:0.24299\n",
      "[145]\teval-rmse:0.33429\ttrain-rmse:0.24246\n",
      "[146]\teval-rmse:0.33423\ttrain-rmse:0.24209\n",
      "[147]\teval-rmse:0.33410\ttrain-rmse:0.24146\n",
      "[148]\teval-rmse:0.33405\ttrain-rmse:0.24087\n",
      "[149]\teval-rmse:0.33401\ttrain-rmse:0.24045\n",
      "[150]\teval-rmse:0.33397\ttrain-rmse:0.24023\n",
      "[151]\teval-rmse:0.33386\ttrain-rmse:0.23952\n",
      "[152]\teval-rmse:0.33385\ttrain-rmse:0.23922\n",
      "[153]\teval-rmse:0.33377\ttrain-rmse:0.23853\n",
      "[154]\teval-rmse:0.33371\ttrain-rmse:0.23801\n",
      "[155]\teval-rmse:0.33366\ttrain-rmse:0.23764\n",
      "[156]\teval-rmse:0.33365\ttrain-rmse:0.23757\n",
      "[157]\teval-rmse:0.33356\ttrain-rmse:0.23702\n",
      "[158]\teval-rmse:0.33349\ttrain-rmse:0.23660\n",
      "[159]\teval-rmse:0.33342\ttrain-rmse:0.23614\n",
      "[160]\teval-rmse:0.33338\ttrain-rmse:0.23587\n",
      "[161]\teval-rmse:0.33332\ttrain-rmse:0.23528\n",
      "[162]\teval-rmse:0.33329\ttrain-rmse:0.23479\n",
      "[163]\teval-rmse:0.33319\ttrain-rmse:0.23426\n",
      "[164]\teval-rmse:0.33315\ttrain-rmse:0.23408\n",
      "[165]\teval-rmse:0.33310\ttrain-rmse:0.23361\n",
      "[166]\teval-rmse:0.33304\ttrain-rmse:0.23315\n",
      "[167]\teval-rmse:0.33305\ttrain-rmse:0.23299\n",
      "[168]\teval-rmse:0.33299\ttrain-rmse:0.23240\n",
      "[169]\teval-rmse:0.33297\ttrain-rmse:0.23199\n",
      "[170]\teval-rmse:0.33297\ttrain-rmse:0.23185\n",
      "[171]\teval-rmse:0.33291\ttrain-rmse:0.23137\n",
      "[172]\teval-rmse:0.33283\ttrain-rmse:0.23084\n",
      "[173]\teval-rmse:0.33275\ttrain-rmse:0.23024\n",
      "[174]\teval-rmse:0.33273\ttrain-rmse:0.23013\n",
      "[175]\teval-rmse:0.33264\ttrain-rmse:0.22944\n",
      "[176]\teval-rmse:0.33257\ttrain-rmse:0.22918\n",
      "[177]\teval-rmse:0.33251\ttrain-rmse:0.22860\n",
      "[178]\teval-rmse:0.33243\ttrain-rmse:0.22829\n",
      "[179]\teval-rmse:0.33242\ttrain-rmse:0.22790\n",
      "[180]\teval-rmse:0.33238\ttrain-rmse:0.22732\n",
      "[181]\teval-rmse:0.33236\ttrain-rmse:0.22724\n",
      "[182]\teval-rmse:0.33231\ttrain-rmse:0.22671\n"
     ]
    },
    {
     "name": "stdout",
     "output_type": "stream",
     "text": [
      "[183]\teval-rmse:0.33229\ttrain-rmse:0.22644\n",
      "[184]\teval-rmse:0.33227\ttrain-rmse:0.22604\n",
      "[185]\teval-rmse:0.33224\ttrain-rmse:0.22561\n",
      "[186]\teval-rmse:0.33217\ttrain-rmse:0.22509\n",
      "[187]\teval-rmse:0.33216\ttrain-rmse:0.22496\n",
      "[188]\teval-rmse:0.33215\ttrain-rmse:0.22484\n",
      "[189]\teval-rmse:0.33211\ttrain-rmse:0.22449\n",
      "[190]\teval-rmse:0.33209\ttrain-rmse:0.22402\n",
      "[191]\teval-rmse:0.33204\ttrain-rmse:0.22390\n",
      "[192]\teval-rmse:0.33200\ttrain-rmse:0.22338\n",
      "[193]\teval-rmse:0.33195\ttrain-rmse:0.22320\n",
      "[194]\teval-rmse:0.33192\ttrain-rmse:0.22274\n",
      "[195]\teval-rmse:0.33192\ttrain-rmse:0.22270\n",
      "[196]\teval-rmse:0.33187\ttrain-rmse:0.22242\n",
      "[197]\teval-rmse:0.33178\ttrain-rmse:0.22198\n",
      "[198]\teval-rmse:0.33177\ttrain-rmse:0.22183\n",
      "[199]\teval-rmse:0.33176\ttrain-rmse:0.22173\n"
     ]
    }
   ],
   "source": [
    "#Train model\n",
    "gbm = xgb.train(params,\n",
    "                dtrain,\n",
    "                num_boost_round = nrounds,\n",
    "                evals = watchlist,\n",
    "                verbose_eval = True\n",
    "                )"
   ]
  },
  {
   "cell_type": "code",
   "execution_count": 21,
   "metadata": {},
   "outputs": [],
   "source": [
    "#Test predictions\n",
    "pred = np.exp(gbm.predict(xgb.DMatrix(X_test))) - 1"
   ]
  },
  {
   "cell_type": "code",
   "execution_count": 22,
   "metadata": {},
   "outputs": [
    {
     "data": {
      "text/plain": [
       "4.880538319898825"
      ]
     },
     "execution_count": 22,
     "metadata": {},
     "output_type": "execute_result"
    }
   ],
   "source": [
    "#Use mean absolute error to get a basic estimate of the error\n",
    "mae = (abs(pred - y_test)).mean()\n",
    "mae"
   ]
  },
  {
   "cell_type": "code",
   "execution_count": 23,
   "metadata": {
    "scrolled": true
   },
   "outputs": [
    {
     "data": {
      "text/plain": [
       "{'passenger_count': 34267.0,\n",
       " 'pickup_longitude': 172436.0,\n",
       " 'pickup_latitude': 140689.0,\n",
       " 'dropoff_longitude': 138972.0,\n",
       " 'dropoff_latitude': 123669.0,\n",
       " 'store_and_fwd_flag': 1738.0,\n",
       " 'pickup_month': 39903.0,\n",
       " 'pickup_day': 75027.0,\n",
       " 'pickup_weekday': 29360.0,\n",
       " 'pickup_hour': 60108.0,\n",
       " 'pickup_minute': 80870.0,\n",
       " 'latitude_difference': 122912.0,\n",
       " 'longitude_difference': 102540.0,\n",
       " 'trip_distance': 102846.0}"
      ]
     },
     "execution_count": 23,
     "metadata": {},
     "output_type": "execute_result"
    }
   ],
   "source": [
    "#Take a look at feature importance\n",
    "feature_scores = gbm.get_fscore()\n",
    "feature_scores"
   ]
  },
  {
   "cell_type": "code",
   "execution_count": 24,
   "metadata": {},
   "outputs": [
    {
     "data": {
      "text/plain": [
       "{'passenger_count': 0.027965367894709783,\n",
       " 'pickup_longitude': 0.14072536779677755,\n",
       " 'pickup_latitude': 0.11481657699065645,\n",
       " 'dropoff_longitude': 0.11341532982355058,\n",
       " 'dropoff_latitude': 0.10092652062248998,\n",
       " 'store_and_fwd_flag': 0.0014183853095107713,\n",
       " 'pickup_month': 0.032564918875378775,\n",
       " 'pickup_day': 0.06122968620061257,\n",
       " 'pickup_weekday': 0.023960755286096803,\n",
       " 'pickup_hour': 0.04905426017495595,\n",
       " 'pickup_minute': 0.06599817029927277,\n",
       " 'latitude_difference': 0.10030873139389408,\n",
       " 'longitude_difference': 0.08368310105709695,\n",
       " 'trip_distance': 0.083932828274997}"
      ]
     },
     "execution_count": 24,
     "metadata": {},
     "output_type": "execute_result"
    }
   ],
   "source": [
    "#This is not very telling, so let's scale the features\n",
    "summ = 0\n",
    "for key in feature_scores:\n",
    "    summ = summ + feature_scores[key]\n",
    "\n",
    "for key in feature_scores:\n",
    "    feature_scores[key] = feature_scores[key] / summ\n",
    "\n",
    "feature_scores"
   ]
  },
  {
   "cell_type": "markdown",
   "metadata": {},
   "source": [
    "# Save the model"
   ]
  },
  {
   "cell_type": "code",
   "execution_count": 25,
   "metadata": {},
   "outputs": [],
   "source": [
    "filename = \"xgb_model.sav\"\n",
    "pickle.dump(gbm, open(filename, 'wb'))"
   ]
  }
 ],
 "metadata": {
  "kernelspec": {
   "display_name": "Python 3 (ipykernel)",
   "language": "python",
   "name": "python3"
  },
  "language_info": {
   "codemirror_mode": {
    "name": "ipython",
    "version": 3
   },
   "file_extension": ".py",
   "mimetype": "text/x-python",
   "name": "python",
   "nbconvert_exporter": "python",
   "pygments_lexer": "ipython3",
   "version": "3.9.7"
  }
 },
 "nbformat": 4,
 "nbformat_minor": 2
}
